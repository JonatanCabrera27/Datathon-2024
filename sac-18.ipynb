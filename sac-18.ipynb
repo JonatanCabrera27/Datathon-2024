{
 "cells": [
  {
   "cell_type": "code",
   "execution_count": 32,
   "metadata": {},
   "outputs": [],
   "source": [
    "import pandas as pd\n",
    "import glob"
   ]
  },
  {
   "cell_type": "code",
   "execution_count": 33,
   "metadata": {},
   "outputs": [],
   "source": [
    "all_files = glob.glob('./data/SAC_*.csv')\n",
    "file_list = [pd.read_csv(file) for file in all_files]"
   ]
  },
  {
   "cell_type": "code",
   "execution_count": 34,
   "metadata": {},
   "outputs": [],
   "source": [
    "df = pd.concat(file_list,ignore_index=True)"
   ]
  },
  {
   "cell_type": "code",
   "execution_count": 35,
   "metadata": {},
   "outputs": [
    {
     "name": "stdout",
     "output_type": "stream",
     "text": [
      "<class 'pandas.core.frame.DataFrame'>\n",
      "RangeIndex: 316280 entries, 0 to 316279\n",
      "Data columns (total 9 columns):\n",
      " #   Column            Non-Null Count   Dtype \n",
      "---  ------            --------------   ----- \n",
      " 0   id_contacto       316280 non-null  int64 \n",
      " 1   momento_contacto  316280 non-null  object\n",
      " 2   via_contacto      316280 non-null  object\n",
      " 3   lng               176000 non-null  object\n",
      " 4   lat               176000 non-null  object\n",
      " 5   tipo_pedido       316280 non-null  object\n",
      " 6   asunto            316280 non-null  object\n",
      " 7   id_barrio         316280 non-null  int64 \n",
      " 8   nombre_barrio     316280 non-null  object\n",
      "dtypes: int64(2), object(7)\n",
      "memory usage: 21.7+ MB\n"
     ]
    }
   ],
   "source": [
    "df.info()"
   ]
  },
  {
   "cell_type": "code",
   "execution_count": 36,
   "metadata": {},
   "outputs": [
    {
     "data": {
      "text/plain": [
       "id_contacto              0\n",
       "momento_contacto         0\n",
       "via_contacto             0\n",
       "lng                 140280\n",
       "lat                 140280\n",
       "tipo_pedido              0\n",
       "asunto                   0\n",
       "id_barrio                0\n",
       "nombre_barrio            0\n",
       "dtype: int64"
      ]
     },
     "execution_count": 36,
     "metadata": {},
     "output_type": "execute_result"
    }
   ],
   "source": [
    "df.isnull().sum()"
   ]
  },
  {
   "cell_type": "code",
   "execution_count": 37,
   "metadata": {},
   "outputs": [],
   "source": [
    "df.to_csv('./data/sac_2018-2024.csv',index=False)"
   ]
  },
  {
   "cell_type": "code",
   "execution_count": 38,
   "metadata": {},
   "outputs": [
    {
     "name": "stderr",
     "output_type": "stream",
     "text": [
      "/tmp/ipykernel_5500/1995059486.py:1: DtypeWarning: Columns (3,4) have mixed types. Specify dtype option on import or set low_memory=False.\n",
      "  sac = pd.read_csv('./data/sac_2018-2024.csv')\n"
     ]
    }
   ],
   "source": [
    "sac = pd.read_csv('./data/sac_2018-2024.csv')"
   ]
  },
  {
   "cell_type": "code",
   "execution_count": 45,
   "metadata": {},
   "outputs": [
    {
     "data": {
      "text/plain": [
       "id_contacto              0\n",
       "momento_contacto         0\n",
       "via_contacto             0\n",
       "lng                 140280\n",
       "lat                 140280\n",
       "tipo_pedido              0\n",
       "asunto                   0\n",
       "id_barrio                0\n",
       "nombre_barrio            0\n",
       "dtype: int64"
      ]
     },
     "execution_count": 45,
     "metadata": {},
     "output_type": "execute_result"
    }
   ],
   "source": [
    "sac.isnull().sum()"
   ]
  },
  {
   "cell_type": "code",
   "execution_count": null,
   "metadata": {},
   "outputs": [],
   "source": []
  }
 ],
 "metadata": {
  "kernelspec": {
   "display_name": "data-science-puHsPct--py3.12",
   "language": "python",
   "name": "python3"
  },
  "language_info": {
   "codemirror_mode": {
    "name": "ipython",
    "version": 3
   },
   "file_extension": ".py",
   "mimetype": "text/x-python",
   "name": "python",
   "nbconvert_exporter": "python",
   "pygments_lexer": "ipython3",
   "version": "3.12.3"
  }
 },
 "nbformat": 4,
 "nbformat_minor": 2
}
