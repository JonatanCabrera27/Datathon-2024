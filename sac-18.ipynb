{
 "cells": [
  {
   "cell_type": "code",
   "execution_count": 1,
   "metadata": {},
   "outputs": [],
   "source": [
    "import pandas as pd\n",
    "import glob"
   ]
  },
  {
   "cell_type": "code",
   "execution_count": 2,
   "metadata": {},
   "outputs": [],
   "source": [
    "all_files = glob.glob('./data/SAC_*.csv')\n",
    "file_list = [pd.read_csv(file) for file in all_files]"
   ]
  },
  {
   "cell_type": "code",
   "execution_count": 3,
   "metadata": {},
   "outputs": [],
   "source": [
    "df = pd.concat(file_list,ignore_index=True)"
   ]
  },
  {
   "cell_type": "code",
   "execution_count": 4,
   "metadata": {},
   "outputs": [
    {
     "name": "stdout",
     "output_type": "stream",
     "text": [
      "<class 'pandas.core.frame.DataFrame'>\n",
      "RangeIndex: 316280 entries, 0 to 316279\n",
      "Data columns (total 9 columns):\n",
      " #   Column            Non-Null Count   Dtype \n",
      "---  ------            --------------   ----- \n",
      " 0   id_contacto       316280 non-null  int64 \n",
      " 1   momento_contacto  316280 non-null  object\n",
      " 2   via_contacto      316280 non-null  object\n",
      " 3   lng               176000 non-null  object\n",
      " 4   lat               176000 non-null  object\n",
      " 5   tipo_pedido       316280 non-null  object\n",
      " 6   asunto            316280 non-null  object\n",
      " 7   id_barrio         316280 non-null  int64 \n",
      " 8   nombre_barrio     316280 non-null  object\n",
      "dtypes: int64(2), object(7)\n",
      "memory usage: 21.7+ MB\n"
     ]
    }
   ],
   "source": [
    "df.info()"
   ]
  },
  {
   "cell_type": "code",
   "execution_count": 5,
   "metadata": {},
   "outputs": [
    {
     "data": {
      "text/plain": [
       "id_contacto              0\n",
       "momento_contacto         0\n",
       "via_contacto             0\n",
       "lng                 140280\n",
       "lat                 140280\n",
       "tipo_pedido              0\n",
       "asunto                   0\n",
       "id_barrio                0\n",
       "nombre_barrio            0\n",
       "dtype: int64"
      ]
     },
     "execution_count": 5,
     "metadata": {},
     "output_type": "execute_result"
    }
   ],
   "source": [
    "df.isnull().sum()"
   ]
  },
  {
   "cell_type": "code",
   "execution_count": 6,
   "metadata": {},
   "outputs": [],
   "source": [
    "df.to_csv('./data/sac_2018-2024.csv',index=False)"
   ]
  },
  {
   "cell_type": "code",
   "execution_count": 7,
   "metadata": {},
   "outputs": [
    {
     "name": "stderr",
     "output_type": "stream",
     "text": [
      "/tmp/ipykernel_17696/1995059486.py:1: DtypeWarning: Columns (3,4) have mixed types. Specify dtype option on import or set low_memory=False.\n",
      "  sac = pd.read_csv('./data/sac_2018-2024.csv')\n"
     ]
    }
   ],
   "source": [
    "sac = pd.read_csv('./data/sac_2018-2024.csv')"
   ]
  },
  {
   "cell_type": "code",
   "execution_count": 8,
   "metadata": {},
   "outputs": [
    {
     "data": {
      "text/plain": [
       "id_contacto              0\n",
       "momento_contacto         0\n",
       "via_contacto             0\n",
       "lng                 140280\n",
       "lat                 140280\n",
       "tipo_pedido              0\n",
       "asunto                   0\n",
       "id_barrio                0\n",
       "nombre_barrio            0\n",
       "dtype: int64"
      ]
     },
     "execution_count": 8,
     "metadata": {},
     "output_type": "execute_result"
    }
   ],
   "source": [
    "sac.isnull().sum()"
   ]
  },
  {
   "cell_type": "code",
   "execution_count": 10,
   "metadata": {},
   "outputs": [
    {
     "name": "stdout",
     "output_type": "stream",
     "text": [
      "id_contacto          0.000000\n",
      "momento_contacto     0.000000\n",
      "via_contacto         0.000000\n",
      "lng                 44.353105\n",
      "lat                 44.353105\n",
      "tipo_pedido          0.000000\n",
      "asunto               0.000000\n",
      "id_barrio            0.000000\n",
      "nombre_barrio        0.000000\n",
      "dtype: float64\n"
     ]
    }
   ],
   "source": [
    "porcentaje_nulos = sac.isnull().mean() * 100\n",
    "print(porcentaje_nulos)"
   ]
  },
  {
   "cell_type": "code",
   "execution_count": 13,
   "metadata": {},
   "outputs": [
    {
     "name": "stdout",
     "output_type": "stream",
     "text": [
      "nombre_barrio\n",
      "SIN BARRIO                       18257\n",
      "CENTRO                           10029\n",
      "VILLA CHIQUITA                    8420\n",
      "LIBERTAD                          7682\n",
      "CAMBA CUA                         7299\n",
      "                                 ...  \n",
      "CLUB DE CAMPO (23566-U)              1\n",
      "CLUB DE CAMPO DON MANUEL             1\n",
      "MURO LAT. ESTE H.PSIQUIATRICO        1\n",
      "VILLA BASURA                         1\n",
      "PASO MARTINEZ                        1\n",
      "Name: count, Length: 166, dtype: int64\n"
     ]
    }
   ],
   "source": [
    "top_barrios = sac['nombre_barrio'].value_counts()\n",
    "print(top_barrios)"
   ]
  }
 ],
 "metadata": {
  "kernelspec": {
   "display_name": "data-science-T_gkNGqk-py3.12",
   "language": "python",
   "name": "python3"
  },
  "language_info": {
   "codemirror_mode": {
    "name": "ipython",
    "version": 3
   },
   "file_extension": ".py",
   "mimetype": "text/x-python",
   "name": "python",
   "nbconvert_exporter": "python",
   "pygments_lexer": "ipython3",
   "version": "3.12.3"
  }
 },
 "nbformat": 4,
 "nbformat_minor": 2
}
